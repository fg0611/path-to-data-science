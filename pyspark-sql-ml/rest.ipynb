{
 "cells": [
  {
   "cell_type": "code",
   "execution_count": null,
   "source": [
    "# File location and type\r\n",
    "file_location = \"/FileStore/tables/rest.csv\"\r\n",
    "file_type = \"csv\"\r\n",
    "\r\n",
    "df=spark.read.csv(file_location,header=True, inferSchema=True,sep=';')\r\n",
    "\r\n",
    "from pyspark.ml.feature import StringIndexer\r\n",
    "\r\n",
    "indexer=StringIndexer(inputCols=['gender','smoker', 'hr','type'],outputCols=['gender_idx','smoker_idx','hr_idx','type_idx'])\r\n",
    "indexed=indexer.fit(df).transform(df)\r\n",
    "indexed.show()\r\n",
    "\r\n",
    "from pyspark.ml.feature import VectorAssembler\r\n",
    "assembler=VectorAssembler(inputCols=['tip','size','gender_idx','smoker_idx','hr_idx','type_idx'], outputCol='indep')\r\n",
    "output=assembler.transform(indexed)"
   ],
   "outputs": [],
   "metadata": {}
  }
 ],
 "metadata": {
  "orig_nbformat": 4,
  "language_info": {
   "name": "python"
  }
 },
 "nbformat": 4,
 "nbformat_minor": 2
}