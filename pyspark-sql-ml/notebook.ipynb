{
 "cells": [
  {
   "cell_type": "code",
   "execution_count": 1,
   "source": [
    "!pip install pyspark"
   ],
   "outputs": [
    {
     "output_type": "stream",
     "name": "stdout",
     "text": [
      "Collecting pyspark\n",
      "  Downloading pyspark-3.2.0.tar.gz (281.3 MB)\n",
      "Collecting py4j==0.10.9.2\n",
      "  Downloading py4j-0.10.9.2-py2.py3-none-any.whl (198 kB)\n",
      "Using legacy 'setup.py install' for pyspark, since package 'wheel' is not installed.\n",
      "Installing collected packages: py4j, pyspark\n",
      "    Running setup.py install for pyspark: started\n",
      "    Running setup.py install for pyspark: finished with status 'done'\n",
      "Successfully installed py4j-0.10.9.2 pyspark-3.2.0\n"
     ]
    },
    {
     "output_type": "stream",
     "name": "stderr",
     "text": [
      "WARNING: You are using pip version 21.2.3; however, version 21.3.1 is available.\n",
      "You should consider upgrading via the 'C:\\Users\\Fili\\Desktop\\Challenges\\django-angular-app\\venv\\Scripts\\python.exe -m pip install --upgrade pip' command.\n"
     ]
    }
   ],
   "metadata": {}
  },
  {
   "cell_type": "code",
   "execution_count": 2,
   "source": [
    "import pyspark"
   ],
   "outputs": [],
   "metadata": {}
  },
  {
   "cell_type": "code",
   "execution_count": 6,
   "source": [
    "import pandas as pd\r\n",
    "pd.read_csv('data.csv')\r\n"
   ],
   "outputs": [
    {
     "output_type": "execute_result",
     "data": {
      "text/html": [
       "<div>\n",
       "<style scoped>\n",
       "    .dataframe tbody tr th:only-of-type {\n",
       "        vertical-align: middle;\n",
       "    }\n",
       "\n",
       "    .dataframe tbody tr th {\n",
       "        vertical-align: top;\n",
       "    }\n",
       "\n",
       "    .dataframe thead th {\n",
       "        text-align: right;\n",
       "    }\n",
       "</style>\n",
       "<table border=\"1\" class=\"dataframe\">\n",
       "  <thead>\n",
       "    <tr style=\"text-align: right;\">\n",
       "      <th></th>\n",
       "      <th>name</th>\n",
       "      <th>age</th>\n",
       "    </tr>\n",
       "  </thead>\n",
       "  <tbody>\n",
       "    <tr>\n",
       "      <th>0</th>\n",
       "      <td>fran</td>\n",
       "      <td>12</td>\n",
       "    </tr>\n",
       "    <tr>\n",
       "      <th>1</th>\n",
       "      <td>ana</td>\n",
       "      <td>34</td>\n",
       "    </tr>\n",
       "    <tr>\n",
       "      <th>2</th>\n",
       "      <td>vale</td>\n",
       "      <td>23</td>\n",
       "    </tr>\n",
       "  </tbody>\n",
       "</table>\n",
       "</div>"
      ],
      "text/plain": [
       "   name  age\n",
       "0  fran   12\n",
       "1   ana   34\n",
       "2  vale   23"
      ]
     },
     "metadata": {},
     "execution_count": 6
    }
   ],
   "metadata": {}
  },
  {
   "cell_type": "code",
   "execution_count": 7,
   "source": [
    "from pyspark.sql import SparkSession"
   ],
   "outputs": [],
   "metadata": {}
  },
  {
   "cell_type": "code",
   "execution_count": 22,
   "source": [
    "spark=SparkSession.builder.appName('Dataframe').getOrCreate()"
   ],
   "outputs": [],
   "metadata": {}
  },
  {
   "cell_type": "code",
   "execution_count": 9,
   "source": [
    "spark"
   ],
   "outputs": [
    {
     "output_type": "execute_result",
     "data": {
      "text/html": [
       "\n",
       "            <div>\n",
       "                <p><b>SparkSession - in-memory</b></p>\n",
       "                \n",
       "        <div>\n",
       "            <p><b>SparkContext</b></p>\n",
       "\n",
       "            <p><a href=\"http://fran.mshome.net:4040\">Spark UI</a></p>\n",
       "\n",
       "            <dl>\n",
       "              <dt>Version</dt>\n",
       "                <dd><code>v3.2.0</code></dd>\n",
       "              <dt>Master</dt>\n",
       "                <dd><code>local[*]</code></dd>\n",
       "              <dt>AppName</dt>\n",
       "                <dd><code>Practice</code></dd>\n",
       "            </dl>\n",
       "        </div>\n",
       "        \n",
       "            </div>\n",
       "        "
      ],
      "text/plain": [
       "<pyspark.sql.session.SparkSession at 0x28d9235a460>"
      ]
     },
     "metadata": {},
     "execution_count": 9
    }
   ],
   "metadata": {}
  },
  {
   "cell_type": "code",
   "execution_count": 87,
   "source": [
    "# ways of reading data\r\n",
    "rawData=spark.read.csv('data.csv')\r\n",
    "# df_pyspark=spark.read.option('header', 'true').csv('data.csv', inferSchema=True)\r\n",
    "df_pyspark=spark.read.csv('data.csv',header=True, inferSchema=True)\r\n",
    "df_pyspark.show()\r\n"
   ],
   "outputs": [
    {
     "output_type": "stream",
     "name": "stdout",
     "text": [
      "+----+----+---+-----+\n",
      "|name| age|exp|  sal|\n",
      "+----+----+---+-----+\n",
      "|fran|  12|  1|30000|\n",
      "| ana|null|  4| 2000|\n",
      "|vale|  23| 20|50000|\n",
      "|serg|  45|  2| null|\n",
      "+----+----+---+-----+\n",
      "\n"
     ]
    }
   ],
   "metadata": {}
  },
  {
   "cell_type": "code",
   "execution_count": 30,
   "source": [
    "# to see the type\r\n",
    "# type(rawData)\r\n",
    "type(df_pyspark)\r\n",
    "# to see table or schema structure\r\n",
    "# df_pyspark.printSchema()"
   ],
   "outputs": [
    {
     "output_type": "execute_result",
     "data": {
      "text/plain": [
       "pyspark.sql.dataframe.DataFrame"
      ]
     },
     "metadata": {},
     "execution_count": 30
    }
   ],
   "metadata": {}
  },
  {
   "cell_type": "code",
   "execution_count": 31,
   "source": [
    "# see dara as a List\r\n",
    "df_pyspark.head(3)"
   ],
   "outputs": [
    {
     "output_type": "execute_result",
     "data": {
      "text/plain": [
       "[Row(name='fran', age=12, exp=1),\n",
       " Row(name='ana', age=34, exp=4),\n",
       " Row(name='vale', age=23, exp=20)]"
      ]
     },
     "metadata": {},
     "execution_count": 31
    }
   ],
   "metadata": {}
  },
  {
   "cell_type": "code",
   "execution_count": 34,
   "source": [
    "df_pyspark.select('name', 'exp').show()\r\n",
    "# df_pyspark.select(['name', 'exp']).show()"
   ],
   "outputs": [
    {
     "output_type": "stream",
     "name": "stdout",
     "text": [
      "+----+---+\n",
      "|name|exp|\n",
      "+----+---+\n",
      "|fran|  1|\n",
      "| ana|  4|\n",
      "|vale| 20|\n",
      "+----+---+\n",
      "\n"
     ]
    }
   ],
   "metadata": {}
  },
  {
   "cell_type": "code",
   "execution_count": 35,
   "source": [
    "df_pyspark.describe()"
   ],
   "outputs": [
    {
     "output_type": "execute_result",
     "data": {
      "text/plain": [
       "DataFrame[summary: string, name: string, age: string, exp: string]"
      ]
     },
     "metadata": {},
     "execution_count": 35
    }
   ],
   "metadata": {}
  },
  {
   "cell_type": "code",
   "execution_count": 45,
   "source": [
    "# Adding columns\r\n",
    "df_pyspark=df_pyspark.withColumn('exp after 2yrs', df_pyspark['exp']+2)"
   ],
   "outputs": [],
   "metadata": {}
  },
  {
   "cell_type": "code",
   "execution_count": 46,
   "source": [
    "df_pyspark.show()"
   ],
   "outputs": [
    {
     "output_type": "stream",
     "name": "stdout",
     "text": [
      "+----+---+---+--------------+\n",
      "|name|age|exp|exp after 2yrs|\n",
      "+----+---+---+--------------+\n",
      "|fran| 12|  1|             3|\n",
      "| ana| 34|  4|             6|\n",
      "|vale| 23| 20|            22|\n",
      "+----+---+---+--------------+\n",
      "\n"
     ]
    }
   ],
   "metadata": {}
  },
  {
   "cell_type": "code",
   "execution_count": 47,
   "source": [
    "df_pyspark=df_pyspark.drop('exp after 2yrs')\r\n",
    "df_pyspark.show()"
   ],
   "outputs": [
    {
     "output_type": "stream",
     "name": "stdout",
     "text": [
      "+----+---+---+\n",
      "|name|age|exp|\n",
      "+----+---+---+\n",
      "|fran| 12|  1|\n",
      "| ana| 34|  4|\n",
      "|vale| 23| 20|\n",
      "+----+---+---+\n",
      "\n"
     ]
    }
   ],
   "metadata": {}
  },
  {
   "cell_type": "code",
   "execution_count": 48,
   "source": [
    "### Rename Cols\r\n",
    "df_pyspark.withColumnRenamed('name', 'firstname')\r\n",
    "df_pyspark.show()"
   ],
   "outputs": [
    {
     "output_type": "stream",
     "name": "stdout",
     "text": [
      "+----+---+---+\n",
      "|name|age|exp|\n",
      "+----+---+---+\n",
      "|fran| 12|  1|\n",
      "| ana| 34|  4|\n",
      "|vale| 23| 20|\n",
      "+----+---+---+\n",
      "\n"
     ]
    }
   ],
   "metadata": {}
  },
  {
   "cell_type": "code",
   "execution_count": 54,
   "source": [
    "# drop rows with Null values\r\n",
    "# df_pyspark.na.drop().show()\r\n",
    "df_pyspark=df_pyspark.na.drop()\r\n",
    "#drop the ones with at least 2 Nulls\r\n",
    "# df_pyspark=df_pyspark.na.drop(how='any',thresh=2)\r\n",
    "df_pyspark.show()"
   ],
   "outputs": [
    {
     "output_type": "stream",
     "name": "stdout",
     "text": [
      "+----+---+---+-----+\n",
      "|name|age|exp|  sal|\n",
      "+----+---+---+-----+\n",
      "|fran| 12|  1|30000|\n",
      "|vale| 23| 20|50000|\n",
      "+----+---+---+-----+\n",
      "\n"
     ]
    }
   ],
   "metadata": {}
  },
  {
   "cell_type": "code",
   "execution_count": 58,
   "source": [
    "#subset property of Drop - it removes rows from specific cols with nulls\r\n",
    "# df_pyspark.show()\r\n",
    "df_pyspark.na.drop(how='any',subset=['age']).show()\r\n"
   ],
   "outputs": [
    {
     "output_type": "stream",
     "name": "stdout",
     "text": [
      "+----+---+---+-----+\n",
      "|name|age|exp|  sal|\n",
      "+----+---+---+-----+\n",
      "|fran| 12|  1|30000|\n",
      "|vale| 23| 20|50000|\n",
      "|serg| 45|  2| null|\n",
      "+----+---+---+-----+\n",
      "\n"
     ]
    }
   ],
   "metadata": {}
  },
  {
   "cell_type": "code",
   "execution_count": 79,
   "source": [
    "### filling nulls or missing vals\r\n",
    "df_pyspark.na.fill('Missing').show() "
   ],
   "outputs": [
    {
     "output_type": "stream",
     "name": "stdout",
     "text": [
      "+----+----+---+-----+\n",
      "|name| age|exp|  sal|\n",
      "+----+----+---+-----+\n",
      "|fran|  12|  1|30000|\n",
      "| ana|null|  4| 2000|\n",
      "|vale|  23| 20|50000|\n",
      "|serg|  45|  2| null|\n",
      "+----+----+---+-----+\n",
      "\n"
     ]
    }
   ],
   "metadata": {}
  },
  {
   "cell_type": "code",
   "execution_count": 74,
   "source": [
    "from pyspark.ml.feature import Imputer\r\n",
    "imputer = Imputer(\r\n",
    "    inputCols=[\"age\",\"sal\"],\r\n",
    "    outputCols=[\"{}_imputed\".format(c) for c in [\"age\",\"sal\"]]\r\n",
    ").setStrategy(\"mean\")"
   ],
   "outputs": [],
   "metadata": {}
  },
  {
   "cell_type": "code",
   "execution_count": 75,
   "source": [
    "# add imputations to DF\r\n",
    "imputer.fit(df_pyspark).transform(df_pyspark).show()"
   ],
   "outputs": [
    {
     "output_type": "stream",
     "name": "stdout",
     "text": [
      "+----+----+---+-----+-----------+-----------+\n",
      "|name| age|exp|  sal|age_imputed|sal_imputed|\n",
      "+----+----+---+-----+-----------+-----------+\n",
      "|fran|  12|  1|30000|         12|      30000|\n",
      "| ana|null|  4| 2000|         26|       2000|\n",
      "|vale|  23| 20|50000|         23|      50000|\n",
      "|serg|  45|  2| null|         45|      27333|\n",
      "+----+----+---+-----+-----------+-----------+\n",
      "\n"
     ]
    }
   ],
   "metadata": {}
  },
  {
   "cell_type": "code",
   "execution_count": 92,
   "source": [
    "### Operations\r\n",
    "df_pyspark.filter('sal>2000').select(['name','age']).show()\r\n"
   ],
   "outputs": [
    {
     "output_type": "stream",
     "name": "stdout",
     "text": [
      "+----+---+\n",
      "|name|age|\n",
      "+----+---+\n",
      "|fran| 12|\n",
      "|vale| 23|\n",
      "+----+---+\n",
      "\n"
     ]
    }
   ],
   "metadata": {}
  },
  {
   "cell_type": "code",
   "execution_count": 98,
   "source": [
    "df_pyspark.filter(df_pyspark['sal']>2000).show()"
   ],
   "outputs": [
    {
     "output_type": "stream",
     "name": "stdout",
     "text": [
      "+----+---+---+-----+\n",
      "|name|age|exp|  sal|\n",
      "+----+---+---+-----+\n",
      "|fran| 12|  1|30000|\n",
      "|vale| 23| 20|50000|\n",
      "+----+---+---+-----+\n",
      "\n"
     ]
    }
   ],
   "metadata": {}
  },
  {
   "cell_type": "code",
   "execution_count": 101,
   "source": [
    "### using AND\r\n",
    "df_pyspark.filter((df_pyspark['sal']>2000) & (df_pyspark['age']>12)).show()"
   ],
   "outputs": [
    {
     "output_type": "stream",
     "name": "stdout",
     "text": [
      "+----+---+---+-----+\n",
      "|name|age|exp|  sal|\n",
      "+----+---+---+-----+\n",
      "|vale| 23| 20|50000|\n",
      "+----+---+---+-----+\n",
      "\n"
     ]
    }
   ],
   "metadata": {}
  },
  {
   "cell_type": "code",
   "execution_count": 100,
   "source": [
    "### using OR\r\n",
    "df_pyspark.filter((df_pyspark['sal']>2000) | (df_pyspark['age']>12)).show()"
   ],
   "outputs": [
    {
     "output_type": "stream",
     "name": "stdout",
     "text": [
      "+----+---+---+-----+\n",
      "|name|age|exp|  sal|\n",
      "+----+---+---+-----+\n",
      "|fran| 12|  1|30000|\n",
      "|vale| 23| 20|50000|\n",
      "|serg| 45|  2| null|\n",
      "+----+---+---+-----+\n",
      "\n"
     ]
    }
   ],
   "metadata": {}
  },
  {
   "cell_type": "code",
   "execution_count": 125,
   "source": [
    "data2=spark.read.csv('data2.csv',header=True, inferSchema=True,sep=';')\r\n",
    "\r\n",
    "### using GROUP BY - find the cost of each department\r\n",
    "data2.groupBy('dep').sum().show()\r\n"
   ],
   "outputs": [
    {
     "output_type": "stream",
     "name": "stdout",
     "text": [
      "+--------+--------+--------+--------+\n",
      "|     dep|sum(age)|sum(sal)|sum(exp)|\n",
      "+--------+--------+--------+--------+\n",
      "|frontend|      22|    1500|       1|\n",
      "|big data|     156|   18000|      25|\n",
      "|     iot|      35|    3000|       2|\n",
      "|    data|      44|    2500|       2|\n",
      "| backend|      36|    1500|       2|\n",
      "+--------+--------+--------+--------+\n",
      "\n"
     ]
    }
   ],
   "metadata": {}
  },
  {
   "cell_type": "code",
   "execution_count": 126,
   "source": [
    "data2.groupBy('dep').count().show()"
   ],
   "outputs": [
    {
     "output_type": "stream",
     "name": "stdout",
     "text": [
      "+--------+-----+\n",
      "|     dep|count|\n",
      "+--------+-----+\n",
      "|frontend|    1|\n",
      "|big data|    3|\n",
      "|     iot|    1|\n",
      "|    data|    2|\n",
      "| backend|    1|\n",
      "+--------+-----+\n",
      "\n"
     ]
    }
   ],
   "metadata": {}
  },
  {
   "cell_type": "code",
   "execution_count": 127,
   "source": [
    "data2.agg({'sal':'sum'}).show()"
   ],
   "outputs": [
    {
     "output_type": "stream",
     "name": "stdout",
     "text": [
      "+--------+\n",
      "|sum(sal)|\n",
      "+--------+\n",
      "|   26500|\n",
      "+--------+\n",
      "\n"
     ]
    }
   ],
   "metadata": {}
  },
  {
   "cell_type": "code",
   "execution_count": 128,
   "source": [
    "### getting Max Salaries per Department\r\n",
    "data2.groupBy('dep').max().show()"
   ],
   "outputs": [
    {
     "output_type": "stream",
     "name": "stdout",
     "text": [
      "+--------+--------+--------+--------+\n",
      "|     dep|max(age)|max(sal)|max(exp)|\n",
      "+--------+--------+--------+--------+\n",
      "|frontend|      22|    1500|       1|\n",
      "|big data|      66|   10000|      20|\n",
      "|     iot|      35|    3000|       2|\n",
      "|    data|      23|    1300|       1|\n",
      "| backend|      36|    1500|       2|\n",
      "+--------+--------+--------+--------+\n",
      "\n"
     ]
    }
   ],
   "metadata": {}
  },
  {
   "cell_type": "code",
   "execution_count": 129,
   "source": [
    "training = data2\r\n",
    "training.show()"
   ],
   "outputs": [
    {
     "output_type": "stream",
     "name": "stdout",
     "text": [
      "+------+--------+---+-----+---+\n",
      "|  name|     dep|age|  sal|exp|\n",
      "+------+--------+---+-----+---+\n",
      "|  fran|    data| 23| 1300|  1|\n",
      "|   ana|big data| 45| 4000|  2|\n",
      "|sergio|frontend| 22| 1500|  1|\n",
      "| maria|     iot| 35| 3000|  2|\n",
      "| lucia|big data| 66|10000| 20|\n",
      "| pedro|big data| 45| 4000|  3|\n",
      "|  neia|    data| 21| 1200|  1|\n",
      "|chiqui| backend| 36| 1500|  2|\n",
      "+------+--------+---+-----+---+\n",
      "\n"
     ]
    }
   ],
   "metadata": {}
  },
  {
   "cell_type": "code",
   "execution_count": 130,
   "source": [
    "from pyspark.ml.feature import VectorAssembler\r\n",
    "### mix cols to create an Indep Feature called Result\r\n",
    "feature=VectorAssembler(inputCols=['age','exp'],outputCol='result')\r\n"
   ],
   "outputs": [],
   "metadata": {}
  },
  {
   "cell_type": "code",
   "execution_count": 131,
   "source": [
    "result=feature.transform(data2)"
   ],
   "outputs": [],
   "metadata": {}
  },
  {
   "cell_type": "code",
   "execution_count": 132,
   "source": [
    "result.show()"
   ],
   "outputs": [
    {
     "output_type": "stream",
     "name": "stdout",
     "text": [
      "+------+--------+---+-----+---+-----------+\n",
      "|  name|     dep|age|  sal|exp|     result|\n",
      "+------+--------+---+-----+---+-----------+\n",
      "|  fran|    data| 23| 1300|  1| [23.0,1.0]|\n",
      "|   ana|big data| 45| 4000|  2| [45.0,2.0]|\n",
      "|sergio|frontend| 22| 1500|  1| [22.0,1.0]|\n",
      "| maria|     iot| 35| 3000|  2| [35.0,2.0]|\n",
      "| lucia|big data| 66|10000| 20|[66.0,20.0]|\n",
      "| pedro|big data| 45| 4000|  3| [45.0,3.0]|\n",
      "|  neia|    data| 21| 1200|  1| [21.0,1.0]|\n",
      "|chiqui| backend| 36| 1500|  2| [36.0,2.0]|\n",
      "+------+--------+---+-----+---+-----------+\n",
      "\n"
     ]
    }
   ],
   "metadata": {}
  },
  {
   "cell_type": "code",
   "execution_count": 134,
   "source": [
    "### out = Sal in = result\r\n",
    "finalized = result.select('result','exp')\r\n",
    "finalized.show()"
   ],
   "outputs": [
    {
     "output_type": "stream",
     "name": "stdout",
     "text": [
      "+-----------+---+\n",
      "|     result|exp|\n",
      "+-----------+---+\n",
      "| [23.0,1.0]|  1|\n",
      "| [45.0,2.0]|  2|\n",
      "| [22.0,1.0]|  1|\n",
      "| [35.0,2.0]|  2|\n",
      "|[66.0,20.0]| 20|\n",
      "| [45.0,3.0]|  3|\n",
      "| [21.0,1.0]|  1|\n",
      "| [36.0,2.0]|  2|\n",
      "+-----------+---+\n",
      "\n"
     ]
    }
   ],
   "metadata": {}
  },
  {
   "cell_type": "code",
   "execution_count": null,
   "source": [
    " "
   ],
   "outputs": [],
   "metadata": {}
  },
  {
   "cell_type": "code",
   "execution_count": null,
   "source": [],
   "outputs": [],
   "metadata": {}
  },
  {
   "cell_type": "code",
   "execution_count": null,
   "source": [],
   "outputs": [],
   "metadata": {}
  },
  {
   "cell_type": "code",
   "execution_count": null,
   "source": [],
   "outputs": [],
   "metadata": {}
  },
  {
   "cell_type": "code",
   "execution_count": null,
   "source": [],
   "outputs": [],
   "metadata": {}
  },
  {
   "cell_type": "code",
   "execution_count": null,
   "source": [],
   "outputs": [],
   "metadata": {}
  }
 ],
 "metadata": {
  "orig_nbformat": 4,
  "language_info": {
   "name": "python",
   "version": "3.9.8",
   "mimetype": "text/x-python",
   "codemirror_mode": {
    "name": "ipython",
    "version": 3
   },
   "pygments_lexer": "ipython3",
   "nbconvert_exporter": "python",
   "file_extension": ".py"
  },
  "kernelspec": {
   "name": "python3",
   "display_name": "Python 3.9.8 64-bit (system)"
  },
  "interpreter": {
   "hash": "9fe70428ef79dabd605895067e4162b1c284464e95b852798f245196aea8a13c"
  }
 },
 "nbformat": 4,
 "nbformat_minor": 2
}